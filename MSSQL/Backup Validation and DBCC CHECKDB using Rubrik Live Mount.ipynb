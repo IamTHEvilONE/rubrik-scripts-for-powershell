{
 "cells": [
  {
   "cell_type": "markdown",
   "metadata": {
    "dotnet_interactive": {
     "language": "pwsh"
    }
   },
   "source": [
    "# Backup Validation and DBCC CHECKDB using Rubrik Live Mount"
   ]
  },
  {
   "cell_type": "markdown",
   "metadata": {},
   "source": [
    "## Backup Validatation of a database using Live Mount\n",
    "\n",
    "Live mount allows for near instant recovery of a database. If a database restore/export normally takes hours, then live mounting a database will take a few minutes. Live Mount does a full recovery of a database to either the same SQL Server Instance with a different database name or another SQL Server Instance with the same or different database name. The recovery of the database is much faster, because Rubrik does not need to copy the contents of the backup from the Rubrik Cluster back to the SQL Server. All of the recovery work is done on the Rubrik cluster itself. Then the database files are presented to the SQL Server Instance via a secure SMB3 share that is only accessible by the machine the share is mounted to.\n",
    "\n",
    "Live Mounting a database is great for a lot of different use cases:\n",
    "- DBA Backup validation testing\n",
    "- Object level recovery\n",
    "- Developer testing\n",
    "- DevOps Automation\n",
    "- Reporting databases\n",
    "- Database migration application smoke test validation.\n",
    "\n",
    "A key parameter is RecoveryDateTime. All dates in Rubrik are stored in UTC format. This parameter is expecting a fully qualified date and time in UTC format. example value is 2018-08-01T02:00:00.000Z. In the example below, we are pulling the latest recovery point that Rubrik knows about.\n",
    "\n",
    "**This article serves as a way to demonstrate how to use Live Mount for Backup Validation.**"
   ]
  },
  {
   "cell_type": "markdown",
   "metadata": {},
   "source": [
    "### Set up environment for all next steps. "
   ]
  },
  {
   "cell_type": "markdown",
   "metadata": {},
   "source": [
    "##### Install the SQLServer package"
   ]
  },
  {
   "cell_type": "code",
   "execution_count": null,
   "metadata": {
    "dotnet_interactive": {
     "language": "pwsh"
    }
   },
   "outputs": [],
   "source": [
    "# Set Variables\n",
    "$Server = $Rubrik.Server.cdm02\n",
    "$Token = $Rubrik.token.cdm02\n",
    "$SourceSQLServerInstance = \"rp-sql19s-001.perf.rubrik.com\"\n",
    "$SourceDatabaseName = \"AdventureWorks2019\"\n",
    "$TargetSQLServerInstance = \"rp-sql19s-001.perf.rubrik.com\"\n",
    "$MountedDatabaseName = \"AdventureWorks2019_LiveMount\""
   ]
  },
  {
   "cell_type": "markdown",
   "metadata": {},
   "source": [
    "#### Connect to the Rubrik Cluster"
   ]
  },
  {
   "cell_type": "code",
   "execution_count": null,
   "metadata": {
    "dotnet_interactive": {
     "language": "pwsh"
    }
   },
   "outputs": [
    {
     "data": {
      "text/plain": []
     },
     "metadata": {},
     "output_type": "display_data"
    },
    {
     "name": "stdout",
     "output_type": "stream",
     "text": [
      "\n",
      "\u001b[32;1mName                           Value\u001b[0m\n",
      "\u001b[32;1m----                           -----\u001b[0m\n",
      "api                            1\n",
      "version                        6.0.2-p2-13398\n",
      "server                         10.8.49.101\n",
      "header                         {User-Agent, Authorization}\n",
      "id                             \n",
      "authType                       Token\n",
      "time                           01/13/2022 18:34:50\n",
      "userId                         5e8de809-821c-4569-b53b-8bc3aa5b2f2a\n",
      "\n"
     ]
    }
   ],
   "source": [
    "#Connect-Rubrik with an API Token\n",
    "Connect-Rubrik -Server $Server -Token $Token"
   ]
  },
  {
   "cell_type": "markdown",
   "metadata": {},
   "source": [
    "#### Get details about the database from the Rubrik Cluster"
   ]
  },
  {
   "cell_type": "code",
   "execution_count": null,
   "metadata": {
    "dotnet_interactive": {
     "language": "pwsh"
    }
   },
   "outputs": [
    {
     "data": {
      "text/plain": []
     },
     "metadata": {},
     "output_type": "display_data"
    },
    {
     "name": "stdout",
     "output_type": "stream",
     "text": [
      "\n",
      "\u001b[32;1mid                                   : \u001b[0mMssqlDatabase:::42527305-5e85-4777-8689-955237d3d951\n",
      "\u001b[32;1mname                                 : \u001b[0mAdventureWorks2019\n",
      "\u001b[32;1mconfiguredSlaDomainId                : \u001b[0mINHERIT\n",
      "\u001b[32;1mconfiguredSlaDomainName              : \u001b[0mInherit\n",
      "\u001b[32;1mconfiguredSlaDomainType              : \u001b[0mProtectionSla\n",
      "\u001b[32;1mprimaryClusterId                     : \u001b[0m39b92c18-d897-4b55-a7f9-17ff178616d0\n",
      "\u001b[32;1misConfiguredSlaDomainRetentionLocked : \u001b[0mFalse\n",
      "\u001b[32;1mslaLastUpdateTime                    : \u001b[0m08/06/2021 14:05:30\n",
      "\u001b[32;1meffectiveSlaDomainId                 : \u001b[0m4be3bc1f-6936-432e-86ef-220554df0c35\n",
      "\u001b[32;1meffectiveSlaDomainName               : \u001b[0mSQL Server\n",
      "\u001b[32;1misEffectiveSlaDomainRetentionLocked  : \u001b[0mFalse\n",
      "\u001b[32;1meffectiveSlaSourceObjectId           : \u001b[0mMssqlInstance:::8c66675e-8c84-45b6-a136-73dce79d2372\n",
      "\u001b[32;1meffectiveSlaSourceObjectName         : \u001b[0mMSSQLSERVER\n",
      "\u001b[32;1mslaAssignment                        : \u001b[0mDerived\n",
      "\u001b[32;1mretentionSlaDomainId                 : \u001b[0m4be3bc1f-6936-432e-86ef-220554df0c35\n",
      "\u001b[32;1mrootProperties                       : \u001b[0m@{rootType=Host; rootId=Host:::93c5aed0-2140-4c3a-a464-d57b8\n",
      "                                       \u001b[32;1m\u001b[0ma8dcfbb; rootName=rp-sql19s-001.perf.rubrik.com}\n",
      "\u001b[32;1minstanceId                           : \u001b[0mMssqlInstance:::8c66675e-8c84-45b6-a136-73dce79d2372\n",
      "\u001b[32;1minstanceName                         : \u001b[0mMSSQLSERVER\n",
      "\u001b[32;1misRelic                              : \u001b[0mFalse\n",
      "\u001b[32;1mcopyOnly                             : \u001b[0mFalse\n",
      "\u001b[32;1mlogBackupFrequencyInSeconds          : \u001b[0m3600\n",
      "\u001b[32;1mlogBackupRetentionHours              : \u001b[0m168\n",
      "\u001b[32;1misLiveMount                          : \u001b[0mFalse\n",
      "\u001b[32;1misLogShippingSecondary               : \u001b[0mFalse\n",
      "\u001b[32;1mrecoveryModel                        : \u001b[0mFULL\n",
      "\u001b[32;1mstate                                : \u001b[0mONLINE\n",
      "\u001b[32;1mhasPermissions                       : \u001b[0mTrue\n",
      "\u001b[32;1misInAvailabilityGroup                : \u001b[0mFalse\n",
      "\u001b[32;1mreplicas                             : \u001b[0m{@{instanceId=MssqlInstance:::8c66675e-8c84-45b6-a136-73dce7\n",
      "                                       \u001b[32;1m\u001b[0m9d2372; instanceName=MSSQLSERVER; recoveryModel=FULL; state=\n",
      "                                       \u001b[32;1m\u001b[0mONLINE; hasPermissions=True; isStandby=False; recoveryForkGu\n",
      "                                       \u001b[32;1m\u001b[0mid=307AC875-147C-4D77-AA65-8DD58C631ED5; isArchived=False; i\n",
      "                                       \u001b[32;1m\u001b[0msDeleted=False; rootProperties=}}\n",
      "\u001b[32;1munprotectableReasons                 : \u001b[0m{}\n",
      "\u001b[32;1mnumMissedSnapshot                    : \u001b[0m0\n",
      "\u001b[32;1mlastSnapshotTime                     : \u001b[0m01/13/2022 08:00:08\n",
      "\u001b[32;1mincludeBackupTaskInfo                : \u001b[0mFalse\n",
      "\u001b[32;1misOnline                             : \u001b[0mTrue\n",
      "\n",
      "\n"
     ]
    }
   ],
   "source": [
    "# Get database information from Rubrik\n",
    "$RubrikDatabase = Get-RubrikDatabase -Name $SourceDatabaseName -ServerInstance $SourceSQLServerInstance\n",
    "$RubrikDatabase | Format-List *"
   ]
  },
  {
   "cell_type": "markdown",
   "metadata": {},
   "source": [
    "#### Mount the database to a SQL Server"
   ]
  },
  {
   "cell_type": "code",
   "execution_count": null,
   "metadata": {
    "dotnet_interactive": {
     "language": "pwsh"
    }
   },
   "outputs": [
    {
     "data": {
      "text/plain": []
     },
     "metadata": {},
     "output_type": "display_data"
    },
    {
     "name": "stdout",
     "output_type": "stream",
     "text": [
      "\n",
      "\u001b[32;1mid        : \u001b[0mMSSQL_DB_MOUNT_23a5e731-04ef-48ef-9c77-4e8a89db4e9b_4f453e22-eeb9-489a-acaf-d665403fc08\n",
      "            \u001b[32;1m\u001b[0md:::0\n",
      "\u001b[32;1mstatus    : \u001b[0mSUCCEEDED\n",
      "\u001b[32;1mstartTime : \u001b[0m01/13/2022 23:34:59\n",
      "\u001b[32;1mendTime   : \u001b[0m01/13/2022 23:35:43\n",
      "\u001b[32;1mnodeId    : \u001b[0mcluster:::RVMHM204S006832\n",
      "\u001b[32;1mlinks     : \u001b[0m{@{href=https://10.8.49.101/api/v1/mssql/db/mount/5642b730-80d1-4e42-8ae6-8fc326eb2dc5;\n",
      "            \u001b[32;1m\u001b[0m rel=result}, @{href=https://10.8.49.101/api/v1/mssql/request/MSSQL_DB_MOUNT_23a5e731-0\n",
      "            \u001b[32;1m\u001b[0m4ef-48ef-9c77-4e8a89db4e9b_4f453e22-eeb9-489a-acaf-d665403fc08d:::0; rel=self}}\n",
      "\n",
      "\n"
     ]
    }
   ],
   "source": [
    "#Mount a database to a SQL Server\n",
    "$TargetInstance = Get-RubrikSQLInstance -ServerInstance $TargetSQLServerInstance\n",
    "$RubrikRequest = New-RubrikDatabaseMount -id $RubrikDatabase.id `\n",
    "\t-TargetInstanceId $TargetInstance.id `\n",
    "\t-MountedDatabaseName $MountedDatabaseName `\n",
    "\t-recoveryDateTime (Get-date (Get-RubrikDatabase -id $RubrikDatabase.id).latestRecoveryPoint) `\n",
    "    -Confirm:$false\n",
    "Get-RubrikRequest -id $RubrikRequest.id -Type mssql -WaitForCompletion    "
   ]
  },
  {
   "cell_type": "markdown",
   "metadata": {},
   "source": [
    "A Live mount of a database is the equivalent to doing a T-SQL Restore with your native backups. SQL Server has recovered the snapshot via the SQL Server VSS Writer, and if applicable, rolled the database forward to a point in time chosen by the user. This means we have applied all transactions from the time the snapshot has happened until the point in time chosen. Once a database has been Live Mounted to a SQL Server, the database is ready for any read/write query you would like to run. "
   ]
  },
  {
   "cell_type": "code",
   "execution_count": null,
   "metadata": {
    "dotnet_interactive": {
     "language": "pwsh"
    }
   },
   "outputs": [
    {
     "name": "stdout",
     "output_type": "stream",
     "text": [
      "\n",
      "\u001b[32;1mname                         state_desc\u001b[0m\n",
      "\u001b[32;1m----                         ----------\u001b[0m\n",
      "master                       ONLINE\n",
      "tempdb                       ONLINE\n",
      "model                        ONLINE\n",
      "msdb                         ONLINE\n",
      "AdventureWorks2019           ONLINE\n",
      "AdventureWorksDW2019         ONLINE\n",
      "AdventureWorksLT2019         ONLINE\n",
      "AdventureWorks2019_LiveMount ONLINE\n",
      "\n"
     ]
    }
   ],
   "source": [
    "$Query = \"SELECT name, state_desc FROM sys.databases\"\n",
    "Invoke-Sqlcmd -ServerInstance $TargetSQLServerInstance -Query $Query | Format-Table"
   ]
  },
  {
   "cell_type": "code",
   "execution_count": null,
   "metadata": {
    "dotnet_interactive": {
     "language": "pwsh"
    }
   },
   "outputs": [
    {
     "data": {
      "text/plain": []
     },
     "metadata": {},
     "output_type": "display_data"
    }
   ],
   "source": [
    "#Unmount a database from SQL Server\n",
    "$RubrikDatabaseMount = Get-RubrikDatabaseMount -MountedDatabaseName $MountedDatabaseName -TargetInstanceId $TargetInstance.id\n",
    "$RubrikRequest = Remove-RubrikDatabaseMount -id $RubrikDatabaseMount.id -Confirm:$false"
   ]
  }
 ],
 "metadata": {
  "interpreter": {
   "hash": "31f2aee4e71d21fbe5cf8b01ff0e069b9275f58929596ceb00d14d90e3e16cd6"
  },
  "kernelspec": {
   "display_name": ".NET (C#)",
   "language": "C#",
   "name": ".net-csharp"
  },
  "language_info": {
   "file_extension": ".cs",
   "mimetype": "text/x-csharp",
   "name": "C#",
   "pygments_lexer": "csharp",
   "version": "9.0"
  }
 },
 "nbformat": 4,
 "nbformat_minor": 2
}
