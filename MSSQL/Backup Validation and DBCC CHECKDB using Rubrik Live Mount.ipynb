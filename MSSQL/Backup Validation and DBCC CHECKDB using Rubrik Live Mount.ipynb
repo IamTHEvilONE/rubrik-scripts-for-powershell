{
 "cells": [
  {
   "cell_type": "markdown",
   "metadata": {
    "dotnet_interactive": {
     "language": "pwsh"
    }
   },
   "source": [
    "# Backup Validation and DBCC CHECKDB using Rubrik Live Mount"
   ]
  },
  {
   "cell_type": "markdown",
   "metadata": {},
   "source": [
    "## Backup Validatation of a database using Live Mount"
   ]
  },
  {
   "cell_type": "markdown",
   "metadata": {},
   "source": [
    "Live mount allows for near instant recovery of a database. If a database restore/export normally takes hours, then live mounting a database will take a few minutes. Live Mount does a full recovery of a database to either the same SQL Server Instance with a different database name or another SQL Server Instance with the same or different database name. The recovery of the database is much faster, because Rubrik does not need to copy the contents of the backup from the Rubrik Cluster back to the SQL Server. All of the recovery work is done on the Rubrik cluster itself. Then the database files are presented to the SQL Server Instance via a secure SMB3 share that is only accessible by the machine the share is mounted to.\n",
    "\n",
    "Live Mounting a database is great for a lot of different use cases:\n",
    "- DBA Backup validation testing\n",
    "- Object level recovery\n",
    "- Developer testing\n",
    "- DevOps Automation\n",
    "- Reporting databases\n",
    "- Database migration application smoke test validation.\n",
    "\n",
    "A key parameter is RecoveryDateTime. All dates in Rubrik are stored in UTC format. This parameter is expecting a fully qualified date and time in UTC format. example value is 2018-08-01T02:00:00.000Z. In the example below, we are pulling the latest recovery point that Rubrik knows about.\n",
    "\n",
    "**This article serves as a way to demonstrate how to use Live Mount for Backup Validation.**\n",
    "\n",
    "***The code examples below make use of the Rubrik, SQL Server and dbatools Powershell Modules. This is meant to be an example and not the explicit way to achieve backup validation and database integrity checks. Please review this content and use as a way to write your own validation process.***"
   ]
  },
  {
   "cell_type": "markdown",
   "metadata": {},
   "source": [
    "### Set up environment for all next steps. "
   ]
  },
  {
   "cell_type": "code",
   "execution_count": null,
   "metadata": {
    "dotnet_interactive": {
     "language": "pwsh"
    }
   },
   "outputs": [],
   "source": [
    "$Server = $Rubrik.Server.cdm02\n",
    "$Token = $Rubrik.token.cdm02\n",
    "$SourceSQLServerInstance = \"rp-sql19s-001.perf.rubrik.com\"\n",
    "$SourceDatabaseName = \"AdventureWorks2019\"\n",
    "$TargetSQLServerInstance = \"rp-sql19s-001.perf.rubrik.com\"\n",
    "$MountedDatabaseName = \"AdventureWorks2019_LiveMount\""
   ]
  },
  {
   "cell_type": "markdown",
   "metadata": {},
   "source": [
    "### Connect to the Rubrik Cluster"
   ]
  },
  {
   "cell_type": "code",
   "execution_count": null,
   "metadata": {
    "dotnet_interactive": {
     "language": "pwsh"
    }
   },
   "outputs": [
    {
     "data": {
      "text/plain": []
     },
     "metadata": {},
     "output_type": "display_data"
    },
    {
     "name": "stdout",
     "output_type": "stream",
     "text": [
      "\n",
      "\u001b[32;1mName                           Value\u001b[0m\n",
      "\u001b[32;1m----                           -----\u001b[0m\n",
      "api                            1\n",
      "version                        6.0.2-p2-13398\n",
      "server                         10.8.49.101\n",
      "header                         {User-Agent, Authorization}\n",
      "id                             \n",
      "authType                       Token\n",
      "time                           01/14/2022 16:04:36\n",
      "userId                         5e8de809-821c-4569-b53b-8bc3aa5b2f2a\n",
      "\n"
     ]
    }
   ],
   "source": [
    "Connect-Rubrik -Server $Server -Token $Token"
   ]
  },
  {
   "cell_type": "markdown",
   "metadata": {},
   "source": [
    "### Get details about the database from the Rubrik Cluster"
   ]
  },
  {
   "cell_type": "code",
   "execution_count": null,
   "metadata": {
    "dotnet_interactive": {
     "language": "pwsh"
    }
   },
   "outputs": [
    {
     "data": {
      "text/plain": []
     },
     "metadata": {},
     "output_type": "display_data"
    }
   ],
   "source": [
    "$RubrikDatabase = Get-RubrikDatabase -Name $SourceDatabaseName -ServerInstance $SourceSQLServerInstance\n",
    "# $RubrikDatabase | Format-List *"
   ]
  },
  {
   "cell_type": "markdown",
   "metadata": {},
   "source": [
    "### Mount the database to a SQL Server"
   ]
  },
  {
   "cell_type": "markdown",
   "metadata": {},
   "source": [
    "The below example will live mount a database to the latest recovery point that Rubrik knows about. Depending on the recovery model of the database and the backups that have been run against the database, this could include the snapshot and the transaction log backups. "
   ]
  },
  {
   "cell_type": "code",
   "execution_count": null,
   "metadata": {
    "dotnet_interactive": {
     "language": "pwsh"
    }
   },
   "outputs": [
    {
     "data": {
      "text/plain": []
     },
     "metadata": {},
     "output_type": "display_data"
    },
    {
     "name": "stdout",
     "output_type": "stream",
     "text": [
      "\n",
      "\u001b[32;1mid        : \u001b[0mMSSQL_DB_MOUNT_4be91b80-e043-416e-bc8a-1400414b0e84_e821f854-90fe-442a-bb8d-d60fb4a7cc8\n",
      "            \u001b[32;1m\u001b[0m2:::0\n",
      "\u001b[32;1mstatus    : \u001b[0mSUCCEEDED\n",
      "\u001b[32;1mstartTime : \u001b[0m01/14/2022 21:04:59\n",
      "\u001b[32;1mendTime   : \u001b[0m01/14/2022 21:05:57\n",
      "\u001b[32;1mnodeId    : \u001b[0mcluster:::RVMHM204S005225\n",
      "\u001b[32;1mlinks     : \u001b[0m{@{href=https://10.8.49.101/api/v1/mssql/db/mount/efced71f-81aa-4d89-91ff-6e20f34c87ea;\n",
      "            \u001b[32;1m\u001b[0m rel=result}, @{href=https://10.8.49.101/api/v1/mssql/request/MSSQL_DB_MOUNT_4be91b80-e\n",
      "            \u001b[32;1m\u001b[0m043-416e-bc8a-1400414b0e84_e821f854-90fe-442a-bb8d-d60fb4a7cc82:::0; rel=self}}\n",
      "\n",
      "\n"
     ]
    }
   ],
   "source": [
    "$TargetInstance = Get-RubrikSQLInstance -ServerInstance $TargetSQLServerInstance\n",
    "$RubrikRequest = New-RubrikDatabaseMount -id $RubrikDatabase.id `\n",
    "\t-TargetInstanceId $TargetInstance.id `\n",
    "\t-MountedDatabaseName $MountedDatabaseName `\n",
    "\t-recoveryDateTime (Get-date (Get-RubrikDatabase -id $RubrikDatabase.id).latestRecoveryPoint) `\n",
    "    -Confirm:$false\n",
    "Get-RubrikRequest -id $RubrikRequest.id -Type mssql -WaitForCompletion    "
   ]
  },
  {
   "cell_type": "markdown",
   "metadata": {},
   "source": [
    "### Confirm that database is live mounted\n",
    "A Live mount of a database is the equivalent to doing a T-SQL Restore with your native backups. SQL Server has recovered the snapshot via the SQL Server VSS Writer, and if applicable, rolled the database forward to a point in time chosen by the user. This means we have applied all transactions from the time the snapshot has happened until the point in time chosen. Once a database has been Live Mounted to a SQL Server, the database is ready for any read/write query you would like to run. "
   ]
  },
  {
   "cell_type": "code",
   "execution_count": null,
   "metadata": {
    "dotnet_interactive": {
     "language": "pwsh"
    }
   },
   "outputs": [
    {
     "name": "stdout",
     "output_type": "stream",
     "text": [
      "\n",
      "\u001b[32;1mname                         state_desc\u001b[0m\n",
      "\u001b[32;1m----                         ----------\u001b[0m\n",
      "master                       ONLINE\n",
      "tempdb                       ONLINE\n",
      "model                        ONLINE\n",
      "msdb                         ONLINE\n",
      "AdventureWorks2019           ONLINE\n",
      "AdventureWorksDW2019         ONLINE\n",
      "AdventureWorksLT2019         ONLINE\n",
      "AdventureWorks2019_LiveMount ONLINE\n",
      "\n"
     ]
    }
   ],
   "source": [
    "$Query = \"SELECT name, state_desc FROM sys.databases\"\n",
    "Invoke-Sqlcmd -ServerInstance $TargetSQLServerInstance -Query $Query | Format-Table"
   ]
  },
  {
   "cell_type": "markdown",
   "metadata": {},
   "source": [
    "## DBCC CHECKDB on Live Mounted Database"
   ]
  },
  {
   "cell_type": "markdown",
   "metadata": {},
   "source": [
    "#### Look Where Live Mount Database Files Reside\n",
    "A Live Mounted database is a database that resides on the Rubrik Storage. It is then presented back to the SQL Server via an secure SMB3 share. When you look at the database files, you will see they reside on a UNC path. "
   ]
  },
  {
   "cell_type": "code",
   "execution_count": null,
   "metadata": {
    "dotnet_interactive": {
     "language": "pwsh"
    }
   },
   "outputs": [
    {
     "name": "stdout",
     "output_type": "stream",
     "text": [
      "\n",
      "\u001b[32;1mDB_Name                      type_desc logical_name           physical_name\u001b[0m\n",
      "\u001b[32;1m-------                      --------- ------------           -------------\u001b[0m\n",
      "AdventureWorks2019_LiveMount ROWS      AdventureWorks2017     \\\\10.8.49.107\\jhcaiqc0e8c3ajbxynia70…\n",
      "AdventureWorks2019_LiveMount LOG       AdventureWorks2017_log \\\\10.8.49.107\\jhcaiqc0e8c3ajbxynia70…\n",
      "\n"
     ]
    }
   ],
   "source": [
    "$Query = \"SELECT DB_NAME() as DB_Name\n",
    ", type_desc\n",
    ", name as logical_name\n",
    ", physical_name\n",
    "FROM sys.database_files\"\n",
    "Invoke-Sqlcmd -ServerInstance $TargetSQLServerInstance -Query $Query -Database $MountedDatabaseName"
   ]
  },
  {
   "cell_type": "markdown",
   "metadata": {},
   "source": [
    "Because this database is sitting on a UNC path, network latency can slow down access to the files. Additionally, the files are not sitting on your production storage array, so performance will not be the same. When you do a DBCC CHECKDB, an hidden database snapshot is created on the same location as the database files. DBCC CHECKDB, then runs its checks against the hidden snapshot. In this case, they will be created on the UNC path where the live mount is residing on. \n",
    "\n",
    "To make things peform a bit better, you should create your database snapshot of the live mounted database on the storage that is attached to the SQL Server. This will consume next to no storage on your SQL Server, but can help increase the performance of the DBCC CHECKDB operation. "
   ]
  },
  {
   "cell_type": "markdown",
   "metadata": {},
   "source": [
    "### Create the database snapshot based off of the live mount"
   ]
  },
  {
   "cell_type": "code",
   "execution_count": null,
   "metadata": {
    "dotnet_interactive": {
     "language": "pwsh"
    }
   },
   "outputs": [
    {
     "name": "stdout",
     "output_type": "stream",
     "text": [
      "\n",
      "\u001b[32;1mName                 Status           Size Space Avai Recovery Compat. Owner                     Co\u001b[0m\n",
      "\u001b[32;1m                                                lable  Model     Level                           ll\u001b[0m\n",
      "\u001b[32;1m                                                                                                 at\u001b[0m\n",
      "\u001b[32;1m                                                                                                 io\u001b[0m\n",
      "\u001b[32;1m                                                                                                 n\u001b[0m\n",
      "\u001b[32;1m----                 ------           ---- ---------- -------- ------- -----                     --\u001b[0m\n",
      "AdventureWorks2019_L Normal      336.00 MB   58.22 MB Simple       140 NT AUTHORITY\\SYSTEM       SQ\n",
      "iveMount_DBCC                                                                                    L_\n",
      "                                                                                                 La\n",
      "                                                                                                 ti\n",
      "                                                                                                 n1\n",
      "                                                                                                 _G\n",
      "                                                                                                 en\n",
      "                                                                                                 er\n",
      "                                                                                                 al\n",
      "                                                                                                 _C\n",
      "                                                                                                 P1\n",
      "                                                                                                 _C\n",
      "                                                                                                 I_\n",
      "                                                                                                 AS\n",
      "\n"
     ]
    }
   ],
   "source": [
    "$SnapshotName = \"$($MountedDatabaseName)_DBCC\"\n",
    "$DefaultSQLPaths = Get-DbaDefaultPath -SqlInstance $TargetSQLServerInstance\n",
    "New-DbaDbSnapshot -SQLInstance $TargetSQLServerInstance -Database $MountedDatabaseName -Path $DefaultSQLPaths.Data -Name $SnapshotName"
   ]
  },
  {
   "cell_type": "markdown",
   "metadata": {},
   "source": [
    "### Run DBCC CHECKDB"
   ]
  },
  {
   "cell_type": "code",
   "execution_count": null,
   "metadata": {
    "dotnet_interactive": {
     "language": "pwsh"
    }
   },
   "outputs": [
    {
     "name": "stdout",
     "output_type": "stream",
     "text": [
      "\n",
      "\u001b[32;1mDate           : \u001b[0m01/14/2022 21:09:59\n",
      "\u001b[32;1mSource         : \u001b[0mspid65\n",
      "\u001b[32;1mText           : \u001b[0mDBCC CHECKDB (AdventureWorks2019_LiveMount_DBCC) executed by perf\\chris.lumnah fou\n",
      "                 \u001b[32;1m\u001b[0mnd 0 errors and repaired 0 errors. Elapsed time: 0 hours 0 minutes 3 seconds.  \n",
      "\u001b[32;1m                 \u001b[0m\n",
      "\u001b[32;1mArchiveNo      : \u001b[0m0\n",
      "\u001b[32;1mServerInstance : \u001b[0mrp-sql19s-001.perf.rubrik.com\n",
      "\n",
      "\n"
     ]
    }
   ],
   "source": [
    " $results = Invoke-Sqlcmd -Query \"dbcc checkdb(); select @@spid as SessionID;\" -ServerInstance $TargetSQLServerInstance -Database $SnapshotName \n",
    " $spid = \"spid\" + $results.sessionID\n",
    " Get-SqlErrorLog -ServerInstance $($TargetSQLServerInstance)  | where-object { $_.Source -eq $spid } | Sort-Object -Property Date -Descending | Select -First 1"
   ]
  },
  {
   "cell_type": "markdown",
   "metadata": {},
   "source": [
    "### Remove database snapshot"
   ]
  },
  {
   "cell_type": "code",
   "execution_count": null,
   "metadata": {
    "dotnet_interactive": {
     "language": "pwsh"
    }
   },
   "outputs": [
    {
     "name": "stdout",
     "output_type": "stream",
     "text": [
      "\n",
      "\u001b[32;1mComputerName : \u001b[0mrp-sql19s-001\n",
      "\u001b[32;1mInstanceName : \u001b[0mMSSQLSERVER\n",
      "\u001b[32;1mSqlInstance  : \u001b[0mrp-sql19s-001\n",
      "\u001b[32;1mName         : \u001b[0mAdventureWorks2019_LiveMount_DBCC\n",
      "\u001b[32;1mStatus       : \u001b[0mDropped\n",
      "\n",
      "\n"
     ]
    }
   ],
   "source": [
    "Remove-DbaDbSnapshot -SqlInstance $TargetSQLServerInstance -Snapshot $SnapshotName -Confirm:$false"
   ]
  },
  {
   "cell_type": "markdown",
   "metadata": {},
   "source": [
    "## Unmount the Database Live Mount"
   ]
  },
  {
   "cell_type": "code",
   "execution_count": null,
   "metadata": {
    "dotnet_interactive": {
     "language": "pwsh"
    }
   },
   "outputs": [
    {
     "data": {
      "text/plain": []
     },
     "metadata": {},
     "output_type": "display_data"
    }
   ],
   "source": [
    "$RubrikDatabaseMount = Get-RubrikDatabaseMount -MountedDatabaseName $MountedDatabaseName -TargetInstanceId $TargetInstance.id\n",
    "$RubrikRequest = Remove-RubrikDatabaseMount -id $RubrikDatabaseMount.id -Confirm:$false"
   ]
  }
 ],
 "metadata": {
  "interpreter": {
   "hash": "31f2aee4e71d21fbe5cf8b01ff0e069b9275f58929596ceb00d14d90e3e16cd6"
  },
  "kernelspec": {
   "display_name": ".NET (C#)",
   "language": "C#",
   "name": ".net-csharp"
  },
  "language_info": {
   "file_extension": ".cs",
   "mimetype": "text/x-csharp",
   "name": "C#",
   "pygments_lexer": "csharp",
   "version": "9.0"
  }
 },
 "nbformat": 4,
 "nbformat_minor": 2
}
