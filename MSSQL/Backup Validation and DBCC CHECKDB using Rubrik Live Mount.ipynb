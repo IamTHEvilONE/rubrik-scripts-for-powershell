{
 "cells": [
  {
   "cell_type": "markdown",
   "metadata": {
    "dotnet_interactive": {
     "language": "pwsh"
    }
   },
   "source": [
    "# Backup Validation and DBCC CHECKDB using Rubrik Live Mount"
   ]
  },
  {
   "cell_type": "markdown",
   "metadata": {},
   "source": [
    "## Backup Validatation of a database using Live Mount\n",
    "\n",
    "Live mount allows for near instant recovery of a database. If a database restore/export normally takes hours, then live mounting a database will take a few minutes. Live Mount does a full recovery of a database to either the same SQL Server Instance with a different database name or another SQL Server Instance with the same or different database name. The recovery of the database is much faster, because Rubrik does not need to copy the contents of the backup from the Rubrik Cluster back to the SQL Server. All of the recovery work is done on the Rubrik cluster itself. Then the database files are presented to the SQL Server Instance via a secure SMB3 share that is only accessible by the machine the share is mounted to.\n",
    "\n",
    "Live Mounting a database is great for a lot of different use cases:\n",
    "- DBA Backup validation testing\n",
    "- Object level recovery\n",
    "- Developer testing\n",
    "- DevOps Automation\n",
    "- Reporting databases\n",
    "- Database migration application smoke test validation.\n",
    "\n",
    "A key parameter is RecoveryDateTime. All dates in Rubrik are stored in UTC format. This parameter is expecting a fully qualified date and time in UTC format. example value is 2018-08-01T02:00:00.000Z. In the example below, we are pulling the latest recovery point that Rubrik knows about.\n",
    "\n",
    "**This article serves as a way to demonstrate how to use Live Mount for Backup Validation.**"
   ]
  },
  {
   "cell_type": "markdown",
   "metadata": {},
   "source": [
    "### Set Variables Which will be used throughout the rest of this demo"
   ]
  },
  {
   "cell_type": "code",
   "execution_count": null,
   "metadata": {
    "dotnet_interactive": {
     "language": "pwsh"
    }
   },
   "outputs": [],
   "source": [
    "# Set Variables\n",
    "$Server = $Rubrik.Server.cdm02\n",
    "$Token = $Rubrik.token.cdm02\n",
    "$SourceSQLServerInstance = \"rp-sql19s-001.perf.rubrik.com\"\n",
    "$SourceDatabaseName = \"AdventureWorks2019\"\n",
    "$TargetSQLServerInstance = \"rp-sql19s-001.perf.rubrik.com\"\n",
    "$MountedDatabaseName = \"AdventureWorks2019_LiveMount\""
   ]
  },
  {
   "cell_type": "markdown",
   "metadata": {},
   "source": [
    "#### Connect to the Rubrik Cluster"
   ]
  },
  {
   "cell_type": "code",
   "execution_count": null,
   "metadata": {
    "dotnet_interactive": {
     "language": "pwsh"
    }
   },
   "outputs": [],
   "source": [
    "#Connect-Rubrik with an API Token\n",
    "Connect-Rubrik -Server $Server -Token $Token"
   ]
  },
  {
   "cell_type": "markdown",
   "metadata": {},
   "source": [
    "#### Get details about the database from the Rubrik Cluster"
   ]
  },
  {
   "cell_type": "code",
   "execution_count": null,
   "metadata": {
    "dotnet_interactive": {
     "language": "pwsh"
    }
   },
   "outputs": [],
   "source": [
    "# Get database information from Rubrik\n",
    "$RubrikDatabase = Get-RubrikDatabase -Name $SourceDatabaseName -ServerInstance $SourceSQLServerInstance\n",
    "$RubrikDatabase | Format-List *"
   ]
  },
  {
   "cell_type": "markdown",
   "metadata": {},
   "source": [
    "#### Mount the database to a SQL Server"
   ]
  },
  {
   "cell_type": "code",
   "execution_count": null,
   "metadata": {
    "dotnet_interactive": {
     "language": "pwsh"
    }
   },
   "outputs": [],
   "source": [
    "#Mount a database to a SQL Server\n",
    "$TargetInstance = Get-RubrikSQLInstance -ServerInstance $TargetSQLServerInstance\n",
    "$RubrikRequest = New-RubrikDatabaseMount -id $RubrikDatabase.id `\n",
    "\t-TargetInstanceId $TargetInstance.id `\n",
    "\t-MountedDatabaseName $MountedDatabaseName `\n",
    "\t-recoveryDateTime (Get-date (Get-RubrikDatabase -id $RubrikDatabase.id).latestRecoveryPoint) `\n",
    "    -Confirm:$false\n",
    "Get-RubrikRequest -id $RubrikRequest.id -Type mssql -WaitForCompletion    "
   ]
  },
  {
   "cell_type": "markdown",
   "metadata": {},
   "source": [
    "A Live mount of a database is the equivolent to doing a T-SQL Restore with your native backups. SQL Server has recovered the snapshot via the SQL Server VSS Writer, and if applicable, rolled the database forward to a point in time chosen by the user. This means we have applied all transactions from the time the snapshot has happened until the point in time chosen. Once a database has been Live Mounted to a SQL Server, the database is ready for any read/write query you would like to run. "
   ]
  }
 ],
 "metadata": {
  "interpreter": {
   "hash": "31f2aee4e71d21fbe5cf8b01ff0e069b9275f58929596ceb00d14d90e3e16cd6"
  },
  "kernelspec": {
   "display_name": ".NET (C#)",
   "language": "C#",
   "name": ".net-csharp"
  },
  "language_info": {
   "file_extension": ".cs",
   "mimetype": "text/x-csharp",
   "name": "C#",
   "pygments_lexer": "csharp",
   "version": "9.0"
  }
 },
 "nbformat": 4,
 "nbformat_minor": 2
}
